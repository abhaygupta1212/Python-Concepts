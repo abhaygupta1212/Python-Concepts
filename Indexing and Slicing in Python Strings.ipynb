{
 "cells": [
  {
   "cell_type": "markdown",
   "id": "d98b9a90",
   "metadata": {},
   "source": [
    "### Introduction"
   ]
  },
  {
   "cell_type": "markdown",
   "id": "a98d95a2",
   "metadata": {},
   "source": [
    "In Python, a string is a sequence of characters. To manipulate strings in Python, you can use indexing and slicing. In this post, we'll explore how to use indexing and slicing with Python strings."
   ]
  },
  {
   "cell_type": "markdown",
   "id": "6d2f384e",
   "metadata": {},
   "source": [
    "### Indexing"
   ]
  },
  {
   "cell_type": "markdown",
   "id": "857c06eb",
   "metadata": {},
   "source": [
    "If there are N elements in a string, the index ranges from 0 to N-1 and from -1 to -N. The indexing of elements starts from 0 and continues up to N-1 where N is the number of elements in the string. Python also has negative indexing, which starts from the end as -1 and continues as -2, -3, and so on, up to -N which is the first element."
   ]
  },
  {
   "cell_type": "code",
   "execution_count": 1,
   "id": "e781d4a3",
   "metadata": {},
   "outputs": [
    {
     "name": "stdout",
     "output_type": "stream",
     "text": [
      "P\n",
      "o\n"
     ]
    }
   ],
   "source": [
    "a = \"Python\"\n",
    "print(a[0])  # Output: \"P\"\n",
    "print(a[-2])  # Output: \"o\""
   ]
  },
  {
   "cell_type": "markdown",
   "id": "c961cd7b",
   "metadata": {},
   "source": [
    "### Slicing"
   ]
  },
  {
   "attachments": {},
   "cell_type": "markdown",
   "id": "134451ee",
   "metadata": {},
   "source": [
    "Slicing in Python is used to extract a part of a Python string. Its syntax is  \n",
    "__string[start:stop:step]__\n",
    "\n",
    "__start__: it is the first index of that part of the string which is to be extracted. If no value is provided its default value is 0 if step is positive and -1 if step is negative.\n",
    "\n",
    "__step__: it is the increment value. If its value is +1, then after starting from start cursor move 1 step in the right direction, if its value is -2 the cursor move 2 steps in the left direction, if its value is +3, the cursor moves 2 steps in the forward direction. If no value of step is provided, its default value is +1.\n",
    "\n",
    "__stop__: it is the index which is not to be achieved. After moving the number of steps right or left as per step, the cursor stops when it reaches a point where it just needs to include or cross over the stop. The stop is never included or crossed and the cursor stops just before it. If no value is provided, the cursor will continue to move till it reaches the end.\n",
    "\n",
    "Note: in the syntax the first colon (:) is mandatory but the second colon is not mandatory. For example, string[:2] is the same as string[1:2:1]."
   ]
  },
  {
   "cell_type": "code",
   "execution_count": 2,
   "id": "bf8cf364",
   "metadata": {},
   "outputs": [
    {
     "name": "stdout",
     "output_type": "stream",
     "text": [
      "yt\n",
      "ython\n",
      "Pyt\n",
      "noh\n",
      "nohtyP\n",
      "hty\n",
      "Pto\n"
     ]
    }
   ],
   "source": [
    "a = \"Python\"\n",
    "print(a[1:3]) # Output: \"yt\" - This slices the string 'a' starting from index 1 up to, but not including index 3.\n",
    "\n",
    "print(a[1:]) # Output: \"ython\" - This slices the string 'a' starting from index 1 till the end of the string.\n",
    "\n",
    "print(a[:3]) # Output: \"Pyt\" - This slices the string 'a' starting from the beginning of the string till index 3, but not including index 3.\n",
    "\n",
    "print(a[:2:-1]) # Output: \"noh\" - This slices the string 'a' starting from index -1 and moves left till index 2, but not including index 2.\n",
    "\n",
    "print(a[-1::-1]) # Output: \"nohtyP\" - This reverses the string 'a'. Because, it starts from -1 and moves one step left till the end.\n",
    "\n",
    "print(a[3:0:-1]) # Output: \"hty\" - This slices the string 'a' starting from index 3 and moves left till index 1, but not including index 0.\n",
    "\n",
    "print(a[0:5:2]) # Output: \"Pto\" - This slices the string 'a' starting from index 0 and moves right by 2 steps till index 5, but not including index 5"
   ]
  },
  {
   "cell_type": "markdown",
   "id": "46c51c04",
   "metadata": {},
   "source": [
    "### Conclusion"
   ]
  },
  {
   "cell_type": "markdown",
   "id": "98fa92fb",
   "metadata": {},
   "source": [
    "Indexing and slicing are powerful techniques used to access and manipulate strings in Python. With indexing, we can access individual characters of a string by specifying their position within the string. On the other hand, slicing allows us to extract a portion of a string by specifying the starting and ending positions."
   ]
  },
  {
   "cell_type": "code",
   "execution_count": null,
   "id": "d8595c3e",
   "metadata": {},
   "outputs": [],
   "source": []
  }
 ],
 "metadata": {
  "kernelspec": {
   "display_name": "Python 3 (ipykernel)",
   "language": "python",
   "name": "python3"
  },
  "language_info": {
   "codemirror_mode": {
    "name": "ipython",
    "version": 3
   },
   "file_extension": ".py",
   "mimetype": "text/x-python",
   "name": "python",
   "nbconvert_exporter": "python",
   "pygments_lexer": "ipython3",
   "version": "3.9.13"
  }
 },
 "nbformat": 4,
 "nbformat_minor": 5
}
