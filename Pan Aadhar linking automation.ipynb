{
 "cells": [
  {
   "cell_type": "code",
   "execution_count": 136,
   "id": "40d85569",
   "metadata": {},
   "outputs": [],
   "source": [
    "from selenium import webdriver\n",
    "from selenium.webdriver.common.by import By\n",
    "import pandas as pd\n",
    "import time"
   ]
  },
  {
   "cell_type": "code",
   "execution_count": 137,
   "id": "ea41d765",
   "metadata": {},
   "outputs": [],
   "source": [
    "driver = webdriver.Chrome()"
   ]
  },
  {
   "cell_type": "code",
   "execution_count": 138,
   "id": "d761d02f",
   "metadata": {},
   "outputs": [],
   "source": [
    "def open_portal():\n",
    "    driver.get(\n",
    "        \"https://eportal.incometax.gov.in/iec/foservices/#/pre-login/link-aadhaar-status\")"
   ]
  },
  {
   "cell_type": "code",
   "execution_count": 139,
   "id": "bf59a4b4",
   "metadata": {},
   "outputs": [],
   "source": [
    "def enter_credential(pan, aadhar):\n",
    "    driver.find_element(By.ID, \"mat-input-0\").send_keys(pan)\n",
    "    driver.find_element(By.ID, \"mat-input-1\").send_keys(aadhar)\n"
   ]
  },
  {
   "cell_type": "code",
   "execution_count": 140,
   "id": "1614532f",
   "metadata": {},
   "outputs": [],
   "source": [
    "def get_message():\n",
    "    btn_xp = \"/html/body/app-root/div[1]/div[3]/app-link-aadhaar-status/div[1]/div/div[2]/form/div[2]/div/button[1]\"\n",
    "    submit_botton = driver.find_element(By.XPATH, btn_xp)    \n",
    "    if submit_botton.get_attribute(\"disabled\") == 'true':\n",
    "        message = \"Either PAN or Aadhar is Invalid\"\n",
    "    else:\n",
    "        submit_botton.click()\n",
    "        time.sleep(0.5)\n",
    "        msg_xp = \"/html/body/app-root/div[1]/div[3]/app-link-aadhaar-status/div[3]/div/div/div[1]/div/span\"\n",
    "        message = driver.find_element(By.XPATH, msg_xp).text\n",
    "    return message"
   ]
  },
  {
   "cell_type": "code",
   "execution_count": 141,
   "id": "13834048",
   "metadata": {},
   "outputs": [],
   "source": [
    "f_loc =  r\"C:\\Users\\AdminUser\\Desktop\\Testing\\data.xlsx\"\n",
    "data = pd.read_excel(f_loc)[[\"Pan\", \"Aadhar\", \"Status\"]]"
   ]
  },
  {
   "cell_type": "code",
   "execution_count": 142,
   "id": "8de9eeb4",
   "metadata": {},
   "outputs": [],
   "source": [
    "for i in data.index:    \n",
    "    open_portal()\n",
    "    enter_credential(str(data.loc[i, \"Pan\"]), str(data.loc[i, \"Aadhar\"]))\n",
    "    data.loc[i, \"Status\"] = get_message()"
   ]
  },
  {
   "cell_type": "code",
   "execution_count": 143,
   "id": "8f43a602",
   "metadata": {},
   "outputs": [],
   "source": [
    "data.to_excel(r\"C:\\Users\\AdminUser\\Desktop\\Testing\\data.xlsx\")"
   ]
  }
 ],
 "metadata": {
  "kernelspec": {
   "display_name": "Python 3 (ipykernel)",
   "language": "python",
   "name": "python3"
  },
  "language_info": {
   "codemirror_mode": {
    "name": "ipython",
    "version": 3
   },
   "file_extension": ".py",
   "mimetype": "text/x-python",
   "name": "python",
   "nbconvert_exporter": "python",
   "pygments_lexer": "ipython3",
   "version": "3.9.13"
  }
 },
 "nbformat": 4,
 "nbformat_minor": 5
}
